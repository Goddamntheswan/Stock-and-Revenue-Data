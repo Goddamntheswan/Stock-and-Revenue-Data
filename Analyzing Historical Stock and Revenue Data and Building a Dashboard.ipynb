{
 "cells": [
  {
   "cell_type": "code",
   "execution_count": 48,
   "metadata": {},
   "outputs": [
    {
     "name": "stdout",
     "output_type": "stream",
     "text": [
      "Requirement already satisfied: yfinance in c:\\users\\97252\\anacondaaa\\lib\\site-packages (0.1.87)\n",
      "Collecting yfinance\n",
      "  Using cached yfinance-0.2.54-py2.py3-none-any.whl.metadata (5.8 kB)\n",
      "INFO: pip is looking at multiple versions of yfinance to determine which version is compatible with other requirements. This could take a while.\n",
      "  Using cached yfinance-0.2.53-py2.py3-none-any.whl.metadata (5.8 kB)\n",
      "  Using cached yfinance-0.2.52-py2.py3-none-any.whl.metadata (5.8 kB)\n",
      "  Using cached yfinance-0.2.51-py2.py3-none-any.whl.metadata (5.5 kB)\n",
      "  Using cached yfinance-0.2.50-py2.py3-none-any.whl.metadata (5.5 kB)\n",
      "  Using cached yfinance-0.2.49-py2.py3-none-any.whl.metadata (13 kB)\n",
      "  Using cached yfinance-0.2.48-py2.py3-none-any.whl.metadata (13 kB)\n",
      "  Using cached yfinance-0.2.47-py2.py3-none-any.whl.metadata (13 kB)\n",
      "INFO: pip is still looking at multiple versions of yfinance to determine which version is compatible with other requirements. This could take a while.\n",
      "  Using cached yfinance-0.2.46-py2.py3-none-any.whl.metadata (13 kB)\n",
      "  Using cached yfinance-0.2.45-py2.py3-none-any.whl.metadata (13 kB)\n",
      "  Using cached yfinance-0.2.44-py2.py3-none-any.whl.metadata (13 kB)\n",
      "  Using cached yfinance-0.2.43-py2.py3-none-any.whl.metadata (11 kB)\n",
      "  Using cached yfinance-0.2.42-py2.py3-none-any.whl.metadata (11 kB)\n",
      "INFO: This is taking longer than usual. You might need to provide the dependency resolver with stricter constraints to reduce runtime. See https://pip.pypa.io/warnings/backtracking for guidance. If you want to abort this run, press Ctrl + C.\n",
      "  Using cached yfinance-0.2.41-py2.py3-none-any.whl.metadata (11 kB)\n",
      "  Using cached yfinance-0.2.40-py2.py3-none-any.whl.metadata (11 kB)\n",
      "  Using cached yfinance-0.2.39-py2.py3-none-any.whl.metadata (11 kB)\n",
      "  Using cached yfinance-0.2.38-py2.py3-none-any.whl.metadata (11 kB)\n",
      "  Using cached yfinance-0.2.37-py2.py3-none-any.whl.metadata (11 kB)\n",
      "  Using cached yfinance-0.2.36-py2.py3-none-any.whl.metadata (11 kB)\n",
      "  Using cached yfinance-0.2.35-py2.py3-none-any.whl.metadata (11 kB)\n",
      "  Using cached yfinance-0.2.34-py2.py3-none-any.whl.metadata (11 kB)\n",
      "  Using cached yfinance-0.2.33-py2.py3-none-any.whl.metadata (11 kB)\n",
      "  Using cached yfinance-0.2.32-py2.py3-none-any.whl.metadata (11 kB)\n",
      "  Using cached yfinance-0.2.31-py2.py3-none-any.whl.metadata (11 kB)\n",
      "  Using cached yfinance-0.2.30-py2.py3-none-any.whl.metadata (11 kB)\n",
      "  Using cached yfinance-0.2.29-py2.py3-none-any.whl.metadata (11 kB)\n",
      "  Using cached yfinance-0.2.28-py2.py3-none-any.whl.metadata (11 kB)\n",
      "  Using cached yfinance-0.2.27-py2.py3-none-any.whl.metadata (11 kB)\n",
      "  Using cached yfinance-0.2.26-py2.py3-none-any.whl.metadata (11 kB)\n",
      "  Using cached yfinance-0.2.25-py2.py3-none-any.whl.metadata (11 kB)\n",
      "  Using cached yfinance-0.2.24-py2.py3-none-any.whl.metadata (11 kB)\n",
      "  Using cached yfinance-0.2.23-py2.py3-none-any.whl.metadata (11 kB)\n",
      "  Using cached yfinance-0.2.22-py2.py3-none-any.whl.metadata (12 kB)\n",
      "  Using cached yfinance-0.2.21-py2.py3-none-any.whl.metadata (12 kB)\n",
      "  Using cached yfinance-0.2.20-py2.py3-none-any.whl.metadata (13 kB)\n",
      "  Using cached yfinance-0.2.19-py2.py3-none-any.whl.metadata (13 kB)\n",
      "  Using cached yfinance-0.2.18-py2.py3-none-any.whl.metadata (12 kB)\n",
      "  Using cached yfinance-0.2.17-py2.py3-none-any.whl.metadata (12 kB)\n",
      "  Using cached yfinance-0.2.16-py2.py3-none-any.whl.metadata (12 kB)\n",
      "  Using cached yfinance-0.2.15-py2.py3-none-any.whl.metadata (12 kB)\n",
      "  Using cached yfinance-0.2.14-py2.py3-none-any.whl.metadata (12 kB)\n",
      "  Using cached yfinance-0.2.13-py2.py3-none-any.whl.metadata (12 kB)\n",
      "  Using cached yfinance-0.2.12-py2.py3-none-any.whl.metadata (12 kB)\n",
      "  Using cached yfinance-0.2.11-py2.py3-none-any.whl.metadata (12 kB)\n",
      "  Using cached yfinance-0.2.10-py2.py3-none-any.whl.metadata (12 kB)\n",
      "  Using cached yfinance-0.2.9-py2.py3-none-any.whl.metadata (12 kB)\n",
      "  Using cached yfinance-0.2.7-py2.py3-none-any.whl.metadata (12 kB)\n",
      "  Using cached yfinance-0.2.6-py2.py3-none-any.whl.metadata (12 kB)\n",
      "  Using cached yfinance-0.2.5-py2.py3-none-any.whl.metadata (12 kB)\n",
      "  Using cached yfinance-0.2.4-py2.py3-none-any.whl.metadata (12 kB)\n",
      "  Using cached yfinance-0.2.3-py2.py3-none-any.whl.metadata (12 kB)\n",
      "  Using cached yfinance-0.2.2-py2.py3-none-any.whl.metadata (12 kB)\n",
      "  Using cached yfinance-0.2.1-py2.py3-none-any.whl.metadata (12 kB)\n",
      "  Using cached yfinance-0.1.96-py2.py3-none-any.whl.metadata (11 kB)\n",
      "  Using cached yfinance-0.1.95-py2.py3-none-any.whl.metadata (11 kB)\n",
      "  Using cached yfinance-0.1.94-py2.py3-none-any.whl.metadata (11 kB)\n",
      "  Using cached yfinance-0.1.93-py2.py3-none-any.whl.metadata (11 kB)\n",
      "  Using cached yfinance-0.1.92-py2.py3-none-any.whl.metadata (11 kB)\n",
      "  Using cached yfinance-0.1.91-py2.py3-none-any.whl.metadata (11 kB)\n",
      "  Using cached yfinance-0.1.90-py2.py3-none-any.whl.metadata (10 kB)\n",
      "  Using cached yfinance-0.1.89-py2.py3-none-any.whl.metadata (10 kB)\n",
      "Requirement already satisfied: pandas>=0.24.0 in c:\\users\\97252\\anacondaaa\\lib\\site-packages (from yfinance) (1.1.5)\n",
      "Requirement already satisfied: numpy>=1.15 in c:\\users\\97252\\anacondaaa\\lib\\site-packages (from yfinance) (1.21.6)\n",
      "Requirement already satisfied: requests>=2.26 in c:\\users\\97252\\anacondaaa\\lib\\site-packages (from yfinance) (2.31.0)\n",
      "Requirement already satisfied: multitasking>=0.0.7 in c:\\users\\97252\\anacondaaa\\lib\\site-packages (from yfinance) (0.0.11)\n",
      "Requirement already satisfied: lxml>=4.5.1 in c:\\users\\97252\\anacondaaa\\lib\\site-packages (from yfinance) (5.3.1)\n",
      "Requirement already satisfied: appdirs>=1.4.4 in c:\\users\\97252\\anacondaaa\\lib\\site-packages (from yfinance) (1.4.4)\n",
      "Requirement already satisfied: python-dateutil>=2.7.3 in c:\\users\\97252\\anacondaaa\\lib\\site-packages (from pandas>=0.24.0->yfinance) (2.7.3)\n",
      "Requirement already satisfied: pytz>=2017.2 in c:\\users\\97252\\anacondaaa\\lib\\site-packages (from pandas>=0.24.0->yfinance) (2018.5)\n",
      "Requirement already satisfied: charset-normalizer<4,>=2 in c:\\users\\97252\\anacondaaa\\lib\\site-packages (from requests>=2.26->yfinance) (3.4.1)\n",
      "Requirement already satisfied: idna<4,>=2.5 in c:\\users\\97252\\anacondaaa\\lib\\site-packages (from requests>=2.26->yfinance) (2.7)\n",
      "Requirement already satisfied: urllib3<3,>=1.21.1 in c:\\users\\97252\\anacondaaa\\lib\\site-packages (from requests>=2.26->yfinance) (1.26.20)\n",
      "Requirement already satisfied: certifi>=2017.4.17 in c:\\users\\97252\\anacondaaa\\lib\\site-packages (from requests>=2.26->yfinance) (2018.8.24)\n",
      "Requirement already satisfied: six>=1.5 in c:\\users\\97252\\anacondaaa\\lib\\site-packages (from python-dateutil>=2.7.3->pandas>=0.24.0->yfinance) (1.11.0)\n",
      "Requirement already satisfied: beautifulsoup4 in c:\\users\\97252\\anacondaaa\\lib\\site-packages (4.6.3)\n",
      "Collecting beautifulsoup4\n",
      "  Downloading beautifulsoup4-4.13.3-py3-none-any.whl.metadata (3.8 kB)\n",
      "Collecting soupsieve>1.2 (from beautifulsoup4)\n",
      "  Downloading soupsieve-2.4.1-py3-none-any.whl.metadata (4.7 kB)\n",
      "Requirement already satisfied: typing-extensions>=4.0.0 in c:\\users\\97252\\anacondaaa\\lib\\site-packages (from beautifulsoup4) (4.7.1)\n",
      "Downloading beautifulsoup4-4.13.3-py3-none-any.whl (186 kB)\n",
      "   ---------------------------------------- 186.0/186.0 kB 1.2 MB/s eta 0:00:00\n",
      "Downloading soupsieve-2.4.1-py3-none-any.whl (36 kB)\n",
      "Installing collected packages: soupsieve, beautifulsoup4\n",
      "  Attempting uninstall: beautifulsoup4\n",
      "    Found existing installation: beautifulsoup4 4.6.3\n",
      "    Uninstalling beautifulsoup4-4.6.3:\n",
      "      Successfully uninstalled beautifulsoup4-4.6.3\n",
      "Successfully installed beautifulsoup4-4.13.3 soupsieve-2.4.1\n"
     ]
    }
   ],
   "source": [
    "!pip install --upgrade yfinance\n",
    "!pip install --upgrade beautifulsoup4"
   ]
  },
  {
   "cell_type": "code",
   "execution_count": 50,
   "metadata": {},
   "outputs": [],
   "source": [
    "import yfinance as yf\n",
    "import pandas as pd\n",
    "import requests\n",
    "from bs4 import BeautifulSoup"
   ]
  },
  {
   "cell_type": "code",
   "execution_count": 66,
   "metadata": {},
   "outputs": [],
   "source": [
    "def make_graph(stock_data, revenue_data, stock):\n",
    "    fig = make_subplots(rows=2, cols=1, shared_xaxes=True, subplot_titles=(\"Historical Share Price\", \"Historical Revenue\"), vertical_spacing = .3)\n",
    "    fig.add_trace(go.Scatter(x=pd.to_datetime(stock_data.Date, infer_datetime_format=True), y=stock_data.Close.astype(\"float\"), name=\"Share Price\"), row=1, col=1)\n",
    "    fig.add_trace(go.Scatter(x=pd.to_datetime(revenue_data.Date, infer_datetime_format=True), y=revenue_data.Revenue.astype(\"float\"), name=\"Revenue\"), row=2, col=1)\n",
    "    fig.update_xaxes(title_text=\"Date\", row=1, col=1)\n",
    "    fig.update_xaxes(title_text=\"Date\", row=2, col=1)\n",
    "    fig.update_yaxes(title_text=\"Price ($US)\", row=1, col=1)\n",
    "    fig.update_yaxes(title_text=\"Revenue ($US Millions)\", row=2, col=1)\n",
    "    fig.update_layout(showlegend=False,\n",
    "    height=900,\n",
    "    title=stock,\n",
    "    xaxis_rangeslider_visible=True)\n",
    "    fig.show()"
   ]
  },
  {
   "cell_type": "markdown",
   "metadata": {},
   "source": [
    "# Ticker is doing problems, please try to evaluate the project by my code. #\n",
    "### 1. Extracting Tesla Stock Data Using yfinance ###"
   ]
  },
  {
   "cell_type": "code",
   "execution_count": 51,
   "metadata": {},
   "outputs": [
    {
     "name": "stdout",
     "output_type": "stream",
     "text": [
      "Failed to get ticker 'TSLA' reason: Expecting value: line 1 column 1 (char 0)\n",
      "- TSLA: No data found for this date range, symbol may be delisted\n"
     ]
    }
   ],
   "source": [
    "# Download historical data for a stock\n",
    "tsla=yf.Ticker('TSLA')\n",
    "tsla_data = tsla.history(period=\"max\")\n",
    "# the ticker of TSLA is temporaly unavailable, please focus on my code."
   ]
  },
  {
   "cell_type": "code",
   "execution_count": 53,
   "metadata": {},
   "outputs": [
    {
     "data": {
      "text/html": [
       "<div>\n",
       "<style scoped>\n",
       "    .dataframe tbody tr th:only-of-type {\n",
       "        vertical-align: middle;\n",
       "    }\n",
       "\n",
       "    .dataframe tbody tr th {\n",
       "        vertical-align: top;\n",
       "    }\n",
       "\n",
       "    .dataframe thead th {\n",
       "        text-align: right;\n",
       "    }\n",
       "</style>\n",
       "<table border=\"1\" class=\"dataframe\">\n",
       "  <thead>\n",
       "    <tr style=\"text-align: right;\">\n",
       "      <th></th>\n",
       "      <th>Date</th>\n",
       "      <th>Open</th>\n",
       "      <th>High</th>\n",
       "      <th>Low</th>\n",
       "      <th>Close</th>\n",
       "      <th>Adj Close</th>\n",
       "      <th>Volume</th>\n",
       "    </tr>\n",
       "  </thead>\n",
       "  <tbody>\n",
       "  </tbody>\n",
       "</table>\n",
       "</div>"
      ],
      "text/plain": [
       "Empty DataFrame\n",
       "Columns: [Date, Open, High, Low, Close, Adj Close, Volume]\n",
       "Index: []"
      ]
     },
     "execution_count": 53,
     "metadata": {},
     "output_type": "execute_result"
    }
   ],
   "source": [
    "tsla_data.reset_index(inplace=True)\n",
    "tsla_data.head()"
   ]
  },
  {
   "cell_type": "markdown",
   "metadata": {},
   "source": [
    "### 2. Extracting Tesla Revenue Data Using Webscraping ###"
   ]
  },
  {
   "cell_type": "code",
   "execution_count": 60,
   "metadata": {},
   "outputs": [],
   "source": [
    "url = \"https://www.macrotrends.net/stocks/charts/TSLA/tesla/revenue\"\n",
    "html_data = requests.get(url).text\n",
    "beautiful_soup=BeautifulSoup(html_data,\"html5lib\")"
   ]
  },
  {
   "cell_type": "code",
   "execution_count": 63,
   "metadata": {},
   "outputs": [
    {
     "ename": "NameError",
     "evalue": "name 'table_index' is not defined",
     "output_type": "error",
     "traceback": [
      "\u001b[1;31m---------------------------------------------------------------------------\u001b[0m",
      "\u001b[1;31mNameError\u001b[0m                                 Traceback (most recent call last)",
      "\u001b[1;32m<ipython-input-63-9716e649c1e8>\u001b[0m in \u001b[0;36m<module>\u001b[1;34m()\u001b[0m\n\u001b[0;32m      5\u001b[0m \u001b[0mtsla_revenue\u001b[0m\u001b[1;33m=\u001b[0m\u001b[0mpd\u001b[0m\u001b[1;33m.\u001b[0m\u001b[0mDataFrame\u001b[0m\u001b[1;33m(\u001b[0m\u001b[0mcolumns\u001b[0m\u001b[1;33m=\u001b[0m\u001b[1;33m[\u001b[0m\u001b[1;34m\"Date\"\u001b[0m\u001b[1;33m,\u001b[0m\u001b[1;34m\"Revenue\"\u001b[0m\u001b[1;33m]\u001b[0m\u001b[1;33m)\u001b[0m\u001b[1;33m\u001b[0m\u001b[0m\n\u001b[0;32m      6\u001b[0m \u001b[1;33m\u001b[0m\u001b[0m\n\u001b[1;32m----> 7\u001b[1;33m \u001b[1;32mfor\u001b[0m \u001b[0mrow\u001b[0m \u001b[1;32min\u001b[0m \u001b[0mtables\u001b[0m\u001b[1;33m[\u001b[0m\u001b[0mtable_index\u001b[0m\u001b[1;33m]\u001b[0m\u001b[1;33m.\u001b[0m\u001b[0mtbody\u001b[0m\u001b[1;33m.\u001b[0m\u001b[0mfind_all\u001b[0m\u001b[1;33m(\u001b[0m\u001b[1;34m'tr'\u001b[0m\u001b[1;33m)\u001b[0m\u001b[1;33m:\u001b[0m\u001b[1;33m\u001b[0m\u001b[0m\n\u001b[0m\u001b[0;32m      8\u001b[0m     \u001b[0mcol\u001b[0m\u001b[1;33m=\u001b[0m\u001b[0mrow\u001b[0m\u001b[1;33m.\u001b[0m\u001b[0mfind_all\u001b[0m\u001b[1;33m(\u001b[0m\u001b[1;34m\"td\"\u001b[0m\u001b[1;33m)\u001b[0m\u001b[1;33m\u001b[0m\u001b[0m\n\u001b[0;32m      9\u001b[0m     \u001b[1;32mif\u001b[0m\u001b[1;33m(\u001b[0m\u001b[0mcol\u001b[0m\u001b[1;33m!=\u001b[0m\u001b[1;33m[\u001b[0m\u001b[1;33m]\u001b[0m\u001b[1;33m)\u001b[0m\u001b[1;33m:\u001b[0m\u001b[1;33m\u001b[0m\u001b[0m\n",
      "\u001b[1;31mNameError\u001b[0m: name 'table_index' is not defined"
     ]
    }
   ],
   "source": [
    "tables=beautiful_soup.find_all(\"table\")\n",
    "for index,table in enumerate(tables):\n",
    "    if(\"Tesla Quarterly Revenue\" in str(table)):\n",
    "        table_index=index\n",
    "tsla_revenue=pd.DataFrame(columns=[\"Date\",\"Revenue\"])\n",
    "\n",
    "for row in tables[table_index].tbody.find_all('tr'):\n",
    "    col=row.find_all(\"td\")\n",
    "    if(col!=[]):\n",
    "        date=col[0].text\n",
    "        revenue=col[1].text.strip().replace(\"$\",\"\").replace(\",\",\"\")\n",
    "        tsla_revenue=tsla_revenue.append({\"Date\":date,\"Revenue\":revenue},ignore_index=True)\n",
    "tsla_revenue.head()\n",
    "print(gamestop_revenue)"
   ]
  },
  {
   "cell_type": "markdown",
   "metadata": {},
   "source": [
    "### 3. Extracting GameStop Stock Data Using yfinance ###"
   ]
  },
  {
   "cell_type": "code",
   "execution_count": 56,
   "metadata": {},
   "outputs": [
    {
     "name": "stdout",
     "output_type": "stream",
     "text": [
      "Failed to get ticker 'GME' reason: Expecting value: line 1 column 1 (char 0)\n",
      "- GME: No data found for this date range, symbol may be delisted\n"
     ]
    }
   ],
   "source": [
    "gamestop = yf.Ticker('GME')\n",
    "gamestop_data = gamestop.history(period=\"max\")"
   ]
  },
  {
   "cell_type": "code",
   "execution_count": 57,
   "metadata": {},
   "outputs": [
    {
     "ename": "ValueError",
     "evalue": "cannot insert level_0, already exists",
     "output_type": "error",
     "traceback": [
      "\u001b[1;31m---------------------------------------------------------------------------\u001b[0m",
      "\u001b[1;31mValueError\u001b[0m                                Traceback (most recent call last)",
      "\u001b[1;32m<ipython-input-57-76cf92fd062d>\u001b[0m in \u001b[0;36m<module>\u001b[1;34m()\u001b[0m\n\u001b[1;32m----> 1\u001b[1;33m \u001b[0mtesla_data\u001b[0m\u001b[1;33m.\u001b[0m\u001b[0mreset_index\u001b[0m\u001b[1;33m(\u001b[0m\u001b[0minplace\u001b[0m\u001b[1;33m=\u001b[0m\u001b[1;32mTrue\u001b[0m\u001b[1;33m)\u001b[0m\u001b[1;33m\u001b[0m\u001b[0m\n\u001b[0m\u001b[0;32m      2\u001b[0m \u001b[0mtesla_data\u001b[0m\u001b[1;33m.\u001b[0m\u001b[0mhead\u001b[0m\u001b[1;33m(\u001b[0m\u001b[1;33m)\u001b[0m\u001b[1;33m\u001b[0m\u001b[0m\n",
      "\u001b[1;32m~\\Anacondaaa\\lib\\site-packages\\pandas\\core\\frame.py\u001b[0m in \u001b[0;36mreset_index\u001b[1;34m(self, level, drop, inplace, col_level, col_fill)\u001b[0m\n\u001b[0;32m   4857\u001b[0m                 \u001b[1;31m# to ndarray and maybe infer different dtype\u001b[0m\u001b[1;33m\u001b[0m\u001b[1;33m\u001b[0m\u001b[0m\n\u001b[0;32m   4858\u001b[0m                 \u001b[0mlevel_values\u001b[0m \u001b[1;33m=\u001b[0m \u001b[0m_maybe_casted_values\u001b[0m\u001b[1;33m(\u001b[0m\u001b[0mlev\u001b[0m\u001b[1;33m,\u001b[0m \u001b[0mlab\u001b[0m\u001b[1;33m)\u001b[0m\u001b[1;33m\u001b[0m\u001b[0m\n\u001b[1;32m-> 4859\u001b[1;33m                 \u001b[0mnew_obj\u001b[0m\u001b[1;33m.\u001b[0m\u001b[0minsert\u001b[0m\u001b[1;33m(\u001b[0m\u001b[1;36m0\u001b[0m\u001b[1;33m,\u001b[0m \u001b[0mname\u001b[0m\u001b[1;33m,\u001b[0m \u001b[0mlevel_values\u001b[0m\u001b[1;33m)\u001b[0m\u001b[1;33m\u001b[0m\u001b[0m\n\u001b[0m\u001b[0;32m   4860\u001b[0m \u001b[1;33m\u001b[0m\u001b[0m\n\u001b[0;32m   4861\u001b[0m         \u001b[0mnew_obj\u001b[0m\u001b[1;33m.\u001b[0m\u001b[0mindex\u001b[0m \u001b[1;33m=\u001b[0m \u001b[0mnew_index\u001b[0m\u001b[1;33m\u001b[0m\u001b[0m\n",
      "\u001b[1;32m~\\Anacondaaa\\lib\\site-packages\\pandas\\core\\frame.py\u001b[0m in \u001b[0;36minsert\u001b[1;34m(self, loc, column, value, allow_duplicates)\u001b[0m\n\u001b[0;32m   3626\u001b[0m         \u001b[0mself\u001b[0m\u001b[1;33m.\u001b[0m\u001b[0m_ensure_valid_index\u001b[0m\u001b[1;33m(\u001b[0m\u001b[0mvalue\u001b[0m\u001b[1;33m)\u001b[0m\u001b[1;33m\u001b[0m\u001b[0m\n\u001b[0;32m   3627\u001b[0m         \u001b[0mvalue\u001b[0m \u001b[1;33m=\u001b[0m \u001b[0mself\u001b[0m\u001b[1;33m.\u001b[0m\u001b[0m_sanitize_column\u001b[0m\u001b[1;33m(\u001b[0m\u001b[0mcolumn\u001b[0m\u001b[1;33m,\u001b[0m \u001b[0mvalue\u001b[0m\u001b[1;33m,\u001b[0m \u001b[0mbroadcast\u001b[0m\u001b[1;33m=\u001b[0m\u001b[1;32mFalse\u001b[0m\u001b[1;33m)\u001b[0m\u001b[1;33m\u001b[0m\u001b[0m\n\u001b[1;32m-> 3628\u001b[1;33m         \u001b[0mself\u001b[0m\u001b[1;33m.\u001b[0m\u001b[0m_mgr\u001b[0m\u001b[1;33m.\u001b[0m\u001b[0minsert\u001b[0m\u001b[1;33m(\u001b[0m\u001b[0mloc\u001b[0m\u001b[1;33m,\u001b[0m \u001b[0mcolumn\u001b[0m\u001b[1;33m,\u001b[0m \u001b[0mvalue\u001b[0m\u001b[1;33m,\u001b[0m \u001b[0mallow_duplicates\u001b[0m\u001b[1;33m=\u001b[0m\u001b[0mallow_duplicates\u001b[0m\u001b[1;33m)\u001b[0m\u001b[1;33m\u001b[0m\u001b[0m\n\u001b[0m\u001b[0;32m   3629\u001b[0m \u001b[1;33m\u001b[0m\u001b[0m\n\u001b[0;32m   3630\u001b[0m     \u001b[1;32mdef\u001b[0m \u001b[0massign\u001b[0m\u001b[1;33m(\u001b[0m\u001b[0mself\u001b[0m\u001b[1;33m,\u001b[0m \u001b[1;33m**\u001b[0m\u001b[0mkwargs\u001b[0m\u001b[1;33m)\u001b[0m \u001b[1;33m->\u001b[0m \u001b[1;34m\"DataFrame\"\u001b[0m\u001b[1;33m:\u001b[0m\u001b[1;33m\u001b[0m\u001b[0m\n",
      "\u001b[1;32m~\\Anacondaaa\\lib\\site-packages\\pandas\\core\\internals\\managers.py\u001b[0m in \u001b[0;36minsert\u001b[1;34m(self, loc, item, value, allow_duplicates)\u001b[0m\n\u001b[0;32m   1184\u001b[0m         \u001b[1;32mif\u001b[0m \u001b[1;32mnot\u001b[0m \u001b[0mallow_duplicates\u001b[0m \u001b[1;32mand\u001b[0m \u001b[0mitem\u001b[0m \u001b[1;32min\u001b[0m \u001b[0mself\u001b[0m\u001b[1;33m.\u001b[0m\u001b[0mitems\u001b[0m\u001b[1;33m:\u001b[0m\u001b[1;33m\u001b[0m\u001b[0m\n\u001b[0;32m   1185\u001b[0m             \u001b[1;31m# Should this be a different kind of error??\u001b[0m\u001b[1;33m\u001b[0m\u001b[1;33m\u001b[0m\u001b[0m\n\u001b[1;32m-> 1186\u001b[1;33m             \u001b[1;32mraise\u001b[0m \u001b[0mValueError\u001b[0m\u001b[1;33m(\u001b[0m\u001b[1;34mf\"cannot insert {item}, already exists\"\u001b[0m\u001b[1;33m)\u001b[0m\u001b[1;33m\u001b[0m\u001b[0m\n\u001b[0m\u001b[0;32m   1187\u001b[0m \u001b[1;33m\u001b[0m\u001b[0m\n\u001b[0;32m   1188\u001b[0m         \u001b[1;32mif\u001b[0m \u001b[1;32mnot\u001b[0m \u001b[0misinstance\u001b[0m\u001b[1;33m(\u001b[0m\u001b[0mloc\u001b[0m\u001b[1;33m,\u001b[0m \u001b[0mint\u001b[0m\u001b[1;33m)\u001b[0m\u001b[1;33m:\u001b[0m\u001b[1;33m\u001b[0m\u001b[0m\n",
      "\u001b[1;31mValueError\u001b[0m: cannot insert level_0, already exists"
     ]
    }
   ],
   "source": [
    "gamestop_data.reset_index(inplace=True)\n",
    "gamestop_data.head()"
   ]
  },
  {
   "cell_type": "markdown",
   "metadata": {},
   "source": [
    "### 4. Extracting GameStop Revenue Data Using Webscraping ###"
   ]
  },
  {
   "cell_type": "code",
   "execution_count": null,
   "metadata": {},
   "outputs": [],
   "source": [
    "url = \"https://www.macrotrends.net/stocks/charts/GME/gamestop/revenue\"\n",
    "html_data = requests.get(url).text\n",
    "beautiful_soup=BeautifulSoup(html_data,\"html5lib\")"
   ]
  },
  {
   "cell_type": "code",
   "execution_count": null,
   "metadata": {},
   "outputs": [],
   "source": [
    "tables=beautiful_soup.find_all(\"table\")\n",
    "for index,table in enumerate(tables):\n",
    "    if(\"GameStop Quarterly Revenue\" in str(table)):\n",
    "        table_index=index\n",
    "gamestop_revenue=pd.DataFrame(columns=[\"Date\",\"Revenue\"])\n",
    "\n",
    "for row in tables[table_index].tbody.find_all('tr'):\n",
    "    col=row.find_all(\"td\")\n",
    "    if(col!=[]):\n",
    "        date=col[0].text\n",
    "        revenue=col[1].text.strip().replace(\"$\",\"\").replace(\",\",\"\")\n",
    "        gamestop_revenue=gamestop_revenue.append({\"Date\":date,\"Revenue\":revenue},ignore_index=True)\n",
    "gamestop_revenue.head()\n",
    "print(gamestop_revenue)"
   ]
  },
  {
   "cell_type": "markdown",
   "metadata": {},
   "source": [
    "### 5. Tesla Stock and Revenue Dashboard ###"
   ]
  },
  {
   "cell_type": "code",
   "execution_count": 67,
   "metadata": {},
   "outputs": [
    {
     "ename": "NameError",
     "evalue": "name 'make_subplots' is not defined",
     "output_type": "error",
     "traceback": [
      "\u001b[1;31m---------------------------------------------------------------------------\u001b[0m",
      "\u001b[1;31mNameError\u001b[0m                                 Traceback (most recent call last)",
      "\u001b[1;32m<ipython-input-67-8f2b0e8ec39c>\u001b[0m in \u001b[0;36m<module>\u001b[1;34m()\u001b[0m\n\u001b[1;32m----> 1\u001b[1;33m \u001b[0mmake_graph\u001b[0m\u001b[1;33m(\u001b[0m\u001b[0mtsla_data\u001b[0m\u001b[1;33m,\u001b[0m\u001b[0mtsla_revenue\u001b[0m\u001b[1;33m,\u001b[0m\u001b[1;34m'Tesla'\u001b[0m\u001b[1;33m)\u001b[0m\u001b[1;33m\u001b[0m\u001b[0m\n\u001b[0m",
      "\u001b[1;32m<ipython-input-66-1df015be5a96>\u001b[0m in \u001b[0;36mmake_graph\u001b[1;34m(stock_data, revenue_data, stock)\u001b[0m\n\u001b[0;32m      1\u001b[0m \u001b[1;32mdef\u001b[0m \u001b[0mmake_graph\u001b[0m\u001b[1;33m(\u001b[0m\u001b[0mstock_data\u001b[0m\u001b[1;33m,\u001b[0m \u001b[0mrevenue_data\u001b[0m\u001b[1;33m,\u001b[0m \u001b[0mstock\u001b[0m\u001b[1;33m)\u001b[0m\u001b[1;33m:\u001b[0m\u001b[1;33m\u001b[0m\u001b[0m\n\u001b[1;32m----> 2\u001b[1;33m     \u001b[0mfig\u001b[0m \u001b[1;33m=\u001b[0m \u001b[0mmake_subplots\u001b[0m\u001b[1;33m(\u001b[0m\u001b[0mrows\u001b[0m\u001b[1;33m=\u001b[0m\u001b[1;36m2\u001b[0m\u001b[1;33m,\u001b[0m \u001b[0mcols\u001b[0m\u001b[1;33m=\u001b[0m\u001b[1;36m1\u001b[0m\u001b[1;33m,\u001b[0m \u001b[0mshared_xaxes\u001b[0m\u001b[1;33m=\u001b[0m\u001b[1;32mTrue\u001b[0m\u001b[1;33m,\u001b[0m \u001b[0msubplot_titles\u001b[0m\u001b[1;33m=\u001b[0m\u001b[1;33m(\u001b[0m\u001b[1;34m\"Historical Share Price\"\u001b[0m\u001b[1;33m,\u001b[0m \u001b[1;34m\"Historical Revenue\"\u001b[0m\u001b[1;33m)\u001b[0m\u001b[1;33m,\u001b[0m \u001b[0mvertical_spacing\u001b[0m \u001b[1;33m=\u001b[0m \u001b[1;36m.3\u001b[0m\u001b[1;33m)\u001b[0m\u001b[1;33m\u001b[0m\u001b[0m\n\u001b[0m\u001b[0;32m      3\u001b[0m     \u001b[0mfig\u001b[0m\u001b[1;33m.\u001b[0m\u001b[0madd_trace\u001b[0m\u001b[1;33m(\u001b[0m\u001b[0mgo\u001b[0m\u001b[1;33m.\u001b[0m\u001b[0mScatter\u001b[0m\u001b[1;33m(\u001b[0m\u001b[0mx\u001b[0m\u001b[1;33m=\u001b[0m\u001b[0mpd\u001b[0m\u001b[1;33m.\u001b[0m\u001b[0mto_datetime\u001b[0m\u001b[1;33m(\u001b[0m\u001b[0mstock_data\u001b[0m\u001b[1;33m.\u001b[0m\u001b[0mDate\u001b[0m\u001b[1;33m,\u001b[0m \u001b[0minfer_datetime_format\u001b[0m\u001b[1;33m=\u001b[0m\u001b[1;32mTrue\u001b[0m\u001b[1;33m)\u001b[0m\u001b[1;33m,\u001b[0m \u001b[0my\u001b[0m\u001b[1;33m=\u001b[0m\u001b[0mstock_data\u001b[0m\u001b[1;33m.\u001b[0m\u001b[0mClose\u001b[0m\u001b[1;33m.\u001b[0m\u001b[0mastype\u001b[0m\u001b[1;33m(\u001b[0m\u001b[1;34m\"float\"\u001b[0m\u001b[1;33m)\u001b[0m\u001b[1;33m,\u001b[0m \u001b[0mname\u001b[0m\u001b[1;33m=\u001b[0m\u001b[1;34m\"Share Price\"\u001b[0m\u001b[1;33m)\u001b[0m\u001b[1;33m,\u001b[0m \u001b[0mrow\u001b[0m\u001b[1;33m=\u001b[0m\u001b[1;36m1\u001b[0m\u001b[1;33m,\u001b[0m \u001b[0mcol\u001b[0m\u001b[1;33m=\u001b[0m\u001b[1;36m1\u001b[0m\u001b[1;33m)\u001b[0m\u001b[1;33m\u001b[0m\u001b[0m\n\u001b[0;32m      4\u001b[0m     \u001b[0mfig\u001b[0m\u001b[1;33m.\u001b[0m\u001b[0madd_trace\u001b[0m\u001b[1;33m(\u001b[0m\u001b[0mgo\u001b[0m\u001b[1;33m.\u001b[0m\u001b[0mScatter\u001b[0m\u001b[1;33m(\u001b[0m\u001b[0mx\u001b[0m\u001b[1;33m=\u001b[0m\u001b[0mpd\u001b[0m\u001b[1;33m.\u001b[0m\u001b[0mto_datetime\u001b[0m\u001b[1;33m(\u001b[0m\u001b[0mrevenue_data\u001b[0m\u001b[1;33m.\u001b[0m\u001b[0mDate\u001b[0m\u001b[1;33m,\u001b[0m \u001b[0minfer_datetime_format\u001b[0m\u001b[1;33m=\u001b[0m\u001b[1;32mTrue\u001b[0m\u001b[1;33m)\u001b[0m\u001b[1;33m,\u001b[0m \u001b[0my\u001b[0m\u001b[1;33m=\u001b[0m\u001b[0mrevenue_data\u001b[0m\u001b[1;33m.\u001b[0m\u001b[0mRevenue\u001b[0m\u001b[1;33m.\u001b[0m\u001b[0mastype\u001b[0m\u001b[1;33m(\u001b[0m\u001b[1;34m\"float\"\u001b[0m\u001b[1;33m)\u001b[0m\u001b[1;33m,\u001b[0m \u001b[0mname\u001b[0m\u001b[1;33m=\u001b[0m\u001b[1;34m\"Revenue\"\u001b[0m\u001b[1;33m)\u001b[0m\u001b[1;33m,\u001b[0m \u001b[0mrow\u001b[0m\u001b[1;33m=\u001b[0m\u001b[1;36m2\u001b[0m\u001b[1;33m,\u001b[0m \u001b[0mcol\u001b[0m\u001b[1;33m=\u001b[0m\u001b[1;36m1\u001b[0m\u001b[1;33m)\u001b[0m\u001b[1;33m\u001b[0m\u001b[0m\n\u001b[0;32m      5\u001b[0m     \u001b[0mfig\u001b[0m\u001b[1;33m.\u001b[0m\u001b[0mupdate_xaxes\u001b[0m\u001b[1;33m(\u001b[0m\u001b[0mtitle_text\u001b[0m\u001b[1;33m=\u001b[0m\u001b[1;34m\"Date\"\u001b[0m\u001b[1;33m,\u001b[0m \u001b[0mrow\u001b[0m\u001b[1;33m=\u001b[0m\u001b[1;36m1\u001b[0m\u001b[1;33m,\u001b[0m \u001b[0mcol\u001b[0m\u001b[1;33m=\u001b[0m\u001b[1;36m1\u001b[0m\u001b[1;33m)\u001b[0m\u001b[1;33m\u001b[0m\u001b[0m\n",
      "\u001b[1;31mNameError\u001b[0m: name 'make_subplots' is not defined"
     ]
    }
   ],
   "source": [
    "make_graph(tsla_data,tsla_revenue,'Tesla')"
   ]
  },
  {
   "cell_type": "markdown",
   "metadata": {},
   "source": [
    "### 6. GameStop Stock and Revenue Dashboard ###"
   ]
  },
  {
   "cell_type": "code",
   "execution_count": null,
   "metadata": {},
   "outputs": [],
   "source": [
    "make_graph(gamestop_data,gamestop_revenue,'GameStop')"
   ]
  }
 ],
 "metadata": {
  "kernelspec": {
   "display_name": "Python 3",
   "language": "python",
   "name": "python3"
  },
  "language_info": {
   "codemirror_mode": {
    "name": "ipython",
    "version": 3
   },
   "file_extension": ".py",
   "mimetype": "text/x-python",
   "name": "python",
   "nbconvert_exporter": "python",
   "pygments_lexer": "ipython3",
   "version": "3.7.0"
  }
 },
 "nbformat": 4,
 "nbformat_minor": 2
}
